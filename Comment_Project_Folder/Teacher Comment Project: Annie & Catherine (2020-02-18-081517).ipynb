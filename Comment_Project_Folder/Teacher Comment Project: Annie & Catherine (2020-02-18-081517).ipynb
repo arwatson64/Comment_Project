{
 "cells": [
  {
   "cell_type": "code",
   "execution_count": 119,
   "metadata": {
    "collapsed": false,
    "scrolled": true
   },
   "outputs": [
    {
     "name": "stderr",
     "output_type": "stream",
     "text": [
      "WARNING: Some output was deleted.\n"
     ]
    }
   ],
   "source": [
    "# Main cell\n",
    "\n",
    "import csv\n",
    "\n",
    "def main_com_project():\n",
    "    '''main_com_project() loops through every student in students and creates individual text file Semester 1 comments for each student'''\n",
    "    full_comment = \"This semester, we completed units on looping, conditionals, functions, and data structures including lists, sets, and dictionaries. In addition, we completed a statistics-related unit on simulations and plotting. The projects this semester included simulating the game of craps and completing a larger partner project on simulating customer service at a bank.\"\n",
    "    student_comments = {}\n",
    "    with open('students.csv') as csvfile:\n",
    "            data = csv.reader(csvfile, delimiter=',')\n",
    "            for student in data:\n",
    "                if 'Name' not in student:\n",
    "                    student_comments[student[0]] = f\"{full_comment}\\n\\n{para1(student[0])}\\n\\n{bank_project(student[0])}\\n\\n{final_test(student[0])}\\n\\n{sem_grade(student[0])}\"\n",
    "            for key, value in student_comments.items():\n",
    "                print(value, end = '\\n\\n--------------------------------------------------------------------------------------------------------------------\\n\\n')\n",
    "\n",
    "main_com_project()\n",
    "\n",
    "# Are we suppose to create a text file for each? How?"
   ]
  },
  {
   "cell_type": "code",
   "execution_count": 120,
   "metadata": {
    "collapsed": false
   },
   "outputs": [
    {
     "name": "stdout",
     "output_type": "stream",
     "text": [
      "Steven, I am concerned with your progress this semester. I am concerned by your complete lack of perseverance in computer science. \"Willingness to take risks even if that means you make mistakes\" is a course expectation, and the ability to collaborate will be of benefit to you regardless of whether or not you pursue computer science. Let me know if there is any way I can support you in improving this skill. Your average problem set score was an extremely concerning 0% as you never completed (or even partially completed) a problem set. Your chapter test average was an extremely concerning 0% as you never completed (or even partially completed) a chapter test. \n",
      "\n",
      "Madison, I am pleased with your progress this semester. You have amazing perseverance. Your tenacity, focused independent work, and habit of asking for help when you needed it were exemplary. Not only did you try (and solve!) every challenge and extra credit problem offered to you, you also encouraged your table mates to do the same, supporting them when they needed it. Your openness and optimism in the face of challenges and setbacks was contagious and made your table group one of the most hard-working and positive I've seen. Perseverance is a clear talent of yours. Your steady improvement on problem sets along with the hard work you have been doing on studying is really paying off in some very strong coding! Your average problem set score was in the A range at an impressive 95%! Your solutions were efficient and thourough, including contingency plans for negatives, decimals, and inputs of zero where other students often forgot to those situations into account. Keep up the good work! Your chapter test average was in the A- range at 91% as a couple solutions in each chapter test failed to account certain situations (e.g. negatives, decimals, or inputs of zero), but your chapter tests on the whole were well done! Paying closer attention to problem instructions and asking for help if you get stuck can bring your average to a solid A in no time! \n"
     ]
    }
   ],
   "source": [
    "import csv\n",
    "\n",
    "\n",
    "def para1(student):\n",
    "    para1 = \"yikes it didn't work\"\n",
    "    '''this function takes in the name of a student and returns the first paragraph of their comments (after the semester recap)'''\n",
    "    with open('students.csv') as csvfile:\n",
    "        data = csv.reader(csvfile, delimiter=',')\n",
    "        for row in data:\n",
    "            if (student.lower()).title() in row:\n",
    "                if int(row[-1]) >= 3:\n",
    "                    para1 = f\"{student.split(' ')[0]}, I am impressed by your progress this semester. {avg_problem_set(student)}{avg_chapter_test(student)}\"\n",
    "                elif int(row[-1]) == 2:\n",
    "                    para1 = f\"{student.split(' ')[0]}, I am pleased with your progress this semester. {avg_problem_set(student)}{avg_chapter_test(student)}\"\n",
    "                else:\n",
    "                    para1 = f\"{student.split(' ')[0]}, I am concerned with your progress this semester. {avg_problem_set(student)}{avg_chapter_test(student)}\"\n",
    "                return para1\n",
    "\n",
    "print(para1(\"Steven Bard\"), end = \"\\n\\n\")\n",
    "print(para1(\"Madison Sommer\"))"
   ]
  },
  {
   "cell_type": "code",
   "execution_count": 121,
   "metadata": {
    "collapsed": false
   },
   "outputs": [
    {
     "name": "stdout",
     "output_type": "stream",
     "text": [
      "I am concerned by your complete lack of collaboration on group and partner projects. I have seen you leave all project work to your peers, and neglect to listen to your group members. \"Openness to working collaboratively\" is a course expectation, and the ability to collaborate will be of benefit to you regardless of whether or not you pursue computer science. Let me know if there is any way I can support you in improving this skill.\n"
     ]
    }
   ],
   "source": [
    "# Annie working on Collaboration code. Collaboration is 1-5.\n",
    "\n",
    "import csv\n",
    "\n",
    "\n",
    "def collab(student):\n",
    "    '''collab(student) takes in a student name and returns a comment on the student's collaboration in class.'''\n",
    "\n",
    "    with open('students.csv') as csvfile:\n",
    "        data = csv.reader(csvfile, delimiter=',')\n",
    "        collab_comment = \"yikes it didn't work\"\n",
    "        for row in data:\n",
    "            if (student.lower()).title() in row:\n",
    "                if int(row[1]) == 1:\n",
    "                    collab_comment = f'I am concerned by your complete lack of collaboration on group and partner projects. I have seen you leave all project work to your peers, and neglect to listen to your group members. \"Openness to working collaboratively\" is a course expectation, and the ability to collaborate will be of benefit to you regardless of whether or not you pursue computer science. Let me know if there is any way I can support you in improving this skill.'\n",
    "                elif int(row[1]) == 2:\n",
    "                    collab_comment = f\"Collaboration is one thing that could have gone better for you this sememster, seeing that you often avoided trusting and hearing out your peers in group projects. I strongly encourage you to practice communicating with group members now, as the ability to collaborate will be of benefit to you regardless of whether or not you pursue computer science. Let me know if there's any way I can support you in improving this skill.\"\n",
    "                elif int(row[1]) == 3:\n",
    "                    collab_comment = f\"Collaboration has not been a problem for you, though you might consider utilizing it in more depth next semester. You're an insightful contributor, and I know your peers could benefit from you speaking up a bit more throughout group projects.\"\n",
    "                elif int(row[1]) == 4:\n",
    "                    collab_comment = f\"{(student.split(' '))[0]}, you were a great collaborator this sememster. You were responsible and organized, receptive to your peers' questions, and you made everyone feel heard and appreciated. Keep up the good work!\"\n",
    "                elif int(row[1]) == 5:\n",
    "                    collab_comment = f\"{(student.split(' '))[0]}, you are a fantastic collaborator. Your responsibility, organization, and positive attitude are exemplary. Regardless of who you were grouped with, your team always had a great working dynamic full of constructive communication. Your leadership style is caring, balanced, and tailored to your group members' individual situations. I encourage you to pursue any leadership role that interests you, as collaboration is a clear talent of yours.\"\n",
    "                return collab_comment\n",
    "\n",
    "print(collab(\"Steven Bard\"))\n"
   ]
  },
  {
   "cell_type": "code",
   "execution_count": 123,
   "metadata": {
    "collapsed": false
   },
   "outputs": [
    {
     "name": "stdout",
     "output_type": "stream",
     "text": [
      "I am concerned by your complete lack of perseverance in computer science. \"Willingness to take risks even if that means you make mistakes\" is a course expectation, and the ability to collaborate will be of benefit to you regardless of whether or not you pursue computer science. Let me know if there is any way I can support you in improving this skill.\n"
     ]
    }
   ],
   "source": [
    "# Annie working on Perseverance code. Collaboration is 1-5.\n",
    "\n",
    "import csv\n",
    "\n",
    "stu_info = []\n",
    "\n",
    "with open('students.csv') as csvfile:\n",
    "    data = csv.reader(csvfile, delimiter=',')\n",
    "    for row in data:\n",
    "        if \"Name\" in row:\n",
    "            header = row\n",
    "        if row != header:\n",
    "            stu_info.append(row)\n",
    "\n",
    "def persevere(student):\n",
    "    '''persevere(student) takes in a student name and returns a comment on the student's perseverance in class.'''\n",
    "\n",
    "    with open('students.csv') as csvfile:\n",
    "        data = csv.reader(csvfile, delimiter=',')\n",
    "        pers_comment = \"yikes it didn't work\"\n",
    "        for row in data:\n",
    "            if (student.lower()).title() in row:\n",
    "                if int(row[2]) == 1:\n",
    "                    pers_comment = f'I am concerned by your complete lack of perseverance in computer science. \"Willingness to take risks even if that means you make mistakes\" is a course expectation, and the ability to collaborate will be of benefit to you regardless of whether or not you pursue computer science. Let me know if there is any way I can support you in improving this skill.'\n",
    "                elif int(row[2]) == 2:\n",
    "                    pers_comment = f'Perseverance is one thing that could have gone better for you this sememster, seeing that you often avoided finishing parts of problem sets, unit tests, and projects that challenged you. I strongly encourage you to practice \"willingness to take risks even if that means you make mistakes\", as completed incorrect work will always earn you more points than missing work. Let me know if there is any way I can support you in improving this skill.'\n",
    "                elif int(row[2]) == 3:\n",
    "                    pers_comment = f\"Perseverance has not been a problem for you, though you might consider increased effort in using your own knowledge to answer challenging problems before turning to outside resources. You're a creative computer scientist, and I know your Python skills could benefit from you challenging yourself to solve problems with your previous knowledge before skipping ahead to concepts we haven't learned yet. Your efficiency is to be admired, but the problems serve to help you really master the basics before moving on.\"\n",
    "                elif int(row[2]) == 4:\n",
    "                    pers_comment = f\"You had great perseverance this sememster. You were faced challenges head-on, asking for help when you needed to, and trying (and solving) nearly every challenge or extra credit problem offered to you. Keep up the good work!\"\n",
    "                elif int(row[2]) == 5:\n",
    "                    pers_comment = f\"You have amazing perseverance. Your tenacity, focused independent work, and habit of asking for help when you needed it were exemplary. Not only did you try (and solve!) every challenge and extra credit problem offered to you, you also encouraged your table mates to do the same, supporting them when they needed it. Your openness and optimism in the face of challenges and setbacks was contagious and made your table group one of the most hard-working and positive I've seen. Perseverance is a clear talent of yours.\"\n",
    "                return pers_comment\n",
    "\n",
    "print(persevere(\"Steven Bard\"))"
   ]
  },
  {
   "cell_type": "code",
   "execution_count": 124,
   "metadata": {
    "collapsed": false
   },
   "outputs": [
    {
     "data": {
      "text/plain": [
       "91"
      ]
     },
     "execution_count": 124,
     "metadata": {
     },
     "output_type": "execute_result"
    }
   ],
   "source": [
    "#Catherine -- first test score\n",
    "\n",
    "'''first_test function iterates through the first test scores of all students and returns a dictionary of all student names as the key and first unit test scores as the values '''\n",
    "\n",
    "first_test_scores = {}\n",
    "with open('students.csv') as csvfile:\n",
    "        data = csv.reader(csvfile, delimiter=',')\n",
    "        for row in data:\n",
    "            first_test_scores[row[0]] = row[4]\n",
    "\n",
    "def first_test(student):\n",
    "    for key,value in first_test_scores.items():\n",
    "        if key == student:\n",
    "            return int(value)\n",
    "\n",
    "first_test('Alex Thompson')"
   ]
  },
  {
   "cell_type": "code",
   "execution_count": 125,
   "metadata": {
    "collapsed": false
   },
   "outputs": [
    {
     "name": "stdout",
     "output_type": "stream",
     "text": [
      "Steven, your final exam score was 0%, showing a complete lack of understanding of how to create, use and take advantage of functions, which is a critical and powerful learning goal for this class. Attending the final could have been helpful for you, Steven. \n"
     ]
    }
   ],
   "source": [
    "#Catherine --- Final test score\n",
    "\n",
    "'''Final test function iterates through the final test scores of all students and returns a dictionary with the students names as the keys and their final test scores as values '''\n",
    "final_test_scores = {}\n",
    "with open('students.csv') as csvfile:\n",
    "        data = csv.reader(csvfile, delimiter=',')\n",
    "        for row in data:\n",
    "            final_test_scores[row[0]] = row[5]\n",
    "\n",
    "def final_test(student):\n",
    "    for key,value in final_test_scores.items():\n",
    "        if key == student:\n",
    "            if int(value) <= 0:\n",
    "                finaltest_com = f\"{student.split(' ')[0]}, your final exam score was {int(value)}%, showing a complete lack of understanding of how to create, use and take advantage of functions, which is a critical and powerful learning goal for this class. Attending the final could have been helpful for you, {student.split(' ')[0]}. \"\n",
    "            elif int(value) <= 50:\n",
    "                finaltest_com = f\"{student.split(' ')[0]}, your final exam score was {int(value)}%. Your final showed an extremely poor understanding of how to create, use and take advantage of functions, which is a critical and powerful learning goal for this class. The majority of your functions were nonexistent, and the the absence of docstrings and comments made the little work you did show difficult to guess the intentions behind. Studying could have been helpful for you, {student.split(' ')[0]}. \"\n",
    "            elif int(value) > 50 and int(value) < 70:\n",
    "                finaltest_com = f\"{student.split(' ')[0]}, your final exam score was {int(value)}%. Your final showed an extremely poor understanding of how to create, use and take advantage of functions, which is a critical and powerful learning goal for this class. The majority of your functions were incomplete and difficult to guess the thought process behind due to the lack of comments and docstrings. Studying could have been helpful for you, {student.split(' ')[0]}. \"\n",
    "            elif int(value) >= 70 and int(value) < 74:\n",
    "                finaltest_com = f\"{student.split(' ')[0]}, your final exam score was {int(value)}%. Your final showed a very poor understanding of how to create, use and take advantage of functions, which is a critical and powerful learning goal for this class. The majority of your functions were partially if not entirely ineffective, and I had trouble deducing the thought process behind them as your code featured few comments. More studying could have been helpful for you, but I appreciate your effort, {student.split(' ')[0]}. \"\n",
    "            elif int(value) >= 74 and int(value) < 80:\n",
    "                finaltest_com = f\"{student.split(' ')[0]}, your final exam score was {int(value)}%. Your final showed a poor understanding of how to create, use and take advantage of functions, which is a critical and powerful learning goal for this class. Though many of your functions were ineffective, the thought process behind them (made easier to discover with your helpful docstrings!) was clever and efficient. More studying could have been helpful for you, but I appreciate your effort, {student.split(' ')[0]}. \"\n",
    "            elif int(value) >= 80 and int(value) < 84:\n",
    "                finaltest_com = f\"{student.split(' ')[0]}, your final exam score was {int(value)}%. Your final showed some nice work, and a decent understanding of how to create, use and take advantage of functions, which is a critical and powerful learning goal for this class. Though many could have been more efficient, most of your functions were effective and your comments increased readibility well. A bit more studying could have been helpful for you, but good effort, {student.split(' ')[0]}. \"\n",
    "            elif int(value) >= 84 and int(value) < 90:\n",
    "                finaltest_com = f\"{student.split(' ')[0]}, your final exam score was {int(value)}%. Your final showed some nice work, and a decent understanding of how to create, use and take advantage of functions, which is a critical and powerful learning goal for this class. Though some could have been more efficient, the majority of your functions were very effective and your frequent comments increased readibility well. Good effort, {student.split(' ')[0]}. \"\n",
    "            elif int(value) >= 90 and int(value) < 94:\n",
    "                finaltest_com = f\"{student.split(' ')[0]}, your final exam score was {int(value)}%. Your final showed some really nice work. Your final shows a good understanding of how to create, use and take advantage of functions, which is a critical and powerful learning goal for this class. Though some could have been more efficient, your functions were very effective and your frequent comments made them easy to read. You are doing great work, {student.split(' ')[0]}. \"\n",
    "            else:\n",
    "                finaltest_com = f\"{student.split(' ')[0]}, your final exam score was an impressive {int(value)}%! Wow! Your final showed some really excellent work. Your final shows a clear understanding of how to create, use and take advantage of functions, which is a critical and powerful learning goal for this class. Your functions were efficient, easy to read and made good use of your functions within other functions so you did not repeat code. You are doing excellent work, {student.split(' ')[0]}. \"\n",
    "            return finaltest_com\n",
    "\n",
    "print(final_test('Steven Bard'))"
   ]
  },
  {
   "cell_type": "code",
   "execution_count": 127,
   "metadata": {
    "collapsed": false,
    "scrolled": true
   },
   "outputs": [
    {
     "name": "stdout",
     "output_type": "stream",
     "text": [
      "Perseverance is one thing that could have gone better for you this sememster, seeing that you often avoided finishing parts of problem sets, unit tests, and projects that challenged you. I strongly encourage you to practice \"willingness to take risks even if that means you make mistakes\", as completed incorrect work will always earn you more points than missing work. Let me know if there is any way I can support you in improving this skill. Your average problem set score was in the B- range at 82% as a few of your problem sets weren't fully completed, and many of your solutions failed to take into account certain situations (e.g. a negative input, decimal input, or an input of zero). I encourage you to pay close attention to the instructions for each problem, and to email me if you ever need an extension. I have absolute faith you can bring your problem set scores to the B+ or A range if you do these things. \n"
     ]
    }
   ],
   "source": [
    "#Catherine --- avg problem set \n",
    "avg_problem_sets = {}\n",
    "with open('students.csv') as csvfile:\n",
    "        data = csv.reader(csvfile, delimiter=',')\n",
    "        for row in data:\n",
    "            avg_problem_sets[row[0]] = row[7]\n",
    "\n",
    "def avg_problem_set(student):\n",
    "    pset_comment = \"yikes it didn't work\"\n",
    "    for key,value in avg_problem_sets.items():\n",
    "        if key == student:\n",
    "            if int(value) <= 0:\n",
    "                pset_comment = f\"{persevere(student)} Your average problem set score was an extremely concerning {int(value)}% as you never completed (or even partially completed) a problem set. \"\n",
    "            elif int(value) <= 50:\n",
    "                pset_comment = f\"{persevere(student)} Your average problem set score was a highly concerning {int(value)}% as you never completed a problem set, but turned in partially (sometimes nearly) completed work instead. \"\n",
    "            elif int(value) > 50 and int(value) < 70:\n",
    "                pset_comment = f\"{persevere(student)} Your average problem set score was a concerning {int(value)}% as most of your problem sets were incomplete, and some of your solutions were incorrect. I encourage you to reach out to me for help or to ask for an extension when you need it! \"\n",
    "            elif int(value) >= 70 and int(value) < 74:\n",
    "                pset_comment = f\"{persevere(student)} Your average problem set score was in the C- range at {int(value)}% as a fair number of your problem sets weren't fully completed, and many of your solutions were incorrect or failed to take into account certain situations (e.g. a negative input, decimal input, or an input of zero). I encourage you to reach out to me for help when you need it! \"\n",
    "            elif int(value) >= 74 and int(value) < 77:\n",
    "                pset_comment = f\"{persevere(student)} Your average problem set score was in the C range at {int(value)}% as a fair number of your problem sets weren't fully completed, and most of your solutions to more mathematical problems failed to take into account certain situations (e.g. a negative input, decimal input, or an input of zero). I encourage you to reach out to me for help when you need it, and to pay close attention to the instructions for each problem! \"\n",
    "            elif int(value) >= 77 and int(value) < 80:\n",
    "                pset_comment = f\"{persevere(student)} Your average problem set score was in the C+ range at {int(value)}% as a fair number of your problem sets weren't fully completed, and many of your solutions failed to take into account certain situations (e.g. a negative input, decimal input, or an input of zero). I encourage you to pay close attention to the instructions for each problem, and please email me when you need an extension! I have faith you can bring your problem set scores to the B or even A range if you do both of these things. \"\n",
    "            elif int(value) >= 80 and int(value) < 84:\n",
    "                pset_comment = f\"{persevere(student)} Your average problem set score was in the B- range at {int(value)}% as a few of your problem sets weren't fully completed, and many of your solutions failed to take into account certain situations (e.g. a negative input, decimal input, or an input of zero). I encourage you to pay close attention to the instructions for each problem, and to email me if you ever need an extension. I have absolute faith you can bring your problem set scores to the B+ or A range if you do these things. \"\n",
    "            elif int(value) >= 84 and int(value) < 87:\n",
    "                pset_comment = f\"{persevere(student)} Your average problem set score was in the B range at {int(value)}% as a few of your problem sets weren't fully completed, and some of your solutions failed to take into account certain situations (e.g. a negative input, decimal input, or an input of zero). I encourage you to pay closer attention to problem instructions, and to email me if you ever need an extension. I have absolute faith you can bring your problem set scores to the B+ or A range if you do these things. \"\n",
    "            elif int(value) >= 87 and int(value) < 90:\n",
    "                pset_comment = f\"{persevere(student)} Your average problem set score was in the B+ range at {int(value)}% as a couple of your problem sets weren't fully completed, and some of your solutions failed to take into account certain situations (e.g. negatives, decimals, or inputs of zero). I encourage you to pay closer attention to problem instructions, and to email me if you ever need an extension. I have absolute faith you can bring your problem set scores to the A range if you work on these things. \"\n",
    "            elif int(value) >= 90 and int(value) < 94:\n",
    "                pset_comment = f\"{persevere(student)} Your steady improvement on problem sets along with the hard work you have been doing on studying is really paying off in some very strong coding! Your average problem set score was in the A- range at {int(value)}% as a couple solutions in each problem set failed to account certain situations (e.g. negatives, decimals, or inputs of zero), but your problem sets on the whole were well done! I encourage you to pay closer attention to problem instructions and to ask for help if you ever get stuck; these can bring your average to a solid A in no time! \"\n",
    "            elif int(value) >= 94 and int(value) < 97:\n",
    "                pset_comment = f\"{persevere(student)} Your steady improvement on problem sets along with the hard work you have been doing on studying is really paying off in some very strong coding! Your average problem set score was in the A range at an impressive {int(value)}%! Your solutions were efficient and thourough, including contingency plans for negatives, decimals, and inputs of zero where other students often forgot to those situations into account. Keep up the good work! \"\n",
    "            else:\n",
    "                pset_comment = f\"{persevere(student)} Your steady improvement on problem sets along with the hard work you have been doing on studying is really paying off in some very strong coding! Your average problem set score was in the A+ range at an impressive {int(value)}%! Your solutions were highly efficient and thourough, including contingency plans for every condition (negatives, decimals, inputs of zero, and more) where other students often forgot to these into account. Your code was concise, neatly formatted, and full of detailed comments and docstrings, making for exemplary readability. Fantastic work! \"\n",
    "            return pset_comment\n",
    "\n",
    "print(f\"{avg_problem_set('Matthew Chang')}\")"
   ]
  },
  {
   "cell_type": "code",
   "execution_count": 129,
   "metadata": {
    "collapsed": false
   },
   "outputs": [
    {
     "name": "stdout",
     "output_type": "stream",
     "text": [
      "Your chapter test average was in the C+ range at 78% as a fair number of your chapter tests weren't fully completed, and many of your solutions failed to take into account certain situations (e.g. a negative input, decimal input, or an input of zero). Paying closer attention to problem instructions and asking for help if you get stuck can bring your average to the B or even A range. \n"
     ]
    }
   ],
   "source": [
    "#Catherine & Annie --- avg chapter test \n",
    "'''create a dictionary with the students names as the keys and their average chapter test scores as the values, then define the function so it will return the average score of a student given upon calling the function'''\n",
    "\n",
    "avg_chapter_tests = {}\n",
    "with open('students.csv') as csvfile:\n",
    "    data = csv.reader(csvfile, delimiter=',')\n",
    "    for row in data:\n",
    "        avg_chapter_tests[row[0]] = row[6]\n",
    "\n",
    "def avg_chapter_test(student):\n",
    "    chaptest_com = \"yikes it didn't work\"\n",
    "    for key,value in avg_chapter_tests.items():\n",
    "        if key == student:\n",
    "            if int(value) <= 0:\n",
    "                chaptest_com = f\"Your chapter test average was an extremely concerning {int(value)}% as you never completed (or even partially completed) a chapter test. \"\n",
    "            elif int(value) <= 50:\n",
    "                chaptest_com = f\"Your chapter test average was a highly concerning {int(value)}% as you never completed a chapter test, but turned in partially (sometimes nearly) completed work instead. Make sure to reach out for help if you don't understand concepts that will be on the test! \"\n",
    "            elif int(value) > 50 and int(value) < 70:\n",
    "                chaptest_com = f\"Your chapter test average was a concerning {int(value)}% as most of your chapter tests were incomplete, and some of your solutions were incorrect. Make sure to reach out for help if you don't understand concepts that will be on the test! \"\n",
    "            elif int(value) >= 70 and int(value) < 74:\n",
    "                chaptest_com = f\"Your chapter test average was in the C- range at {int(value)}% as a fair number of your chapter tests weren't fully completed, and many of your solutions were incorrect or failed to take into account certain situations (e.g. a negative input, decimal input, or an input of zero). Make sure to reach out for help if you don't understand concepts that will be on the test! \"\n",
    "            elif int(value) >= 74 and int(value) < 77:\n",
    "                chaptest_com = f\"Your chapter test average was in the C range at {int(value)}% as a fair number of your chapter tests weren't fully completed, and most of your solutions to more mathematical problems failed to take into account certain situations (e.g. a negative input, decimal input, or an input of zero). Make sure to reach out for help if you don't understand concepts that will be on the test! \"\n",
    "            elif int(value) >= 77 and int(value) < 80:\n",
    "                chaptest_com = f\"Your chapter test average was in the C+ range at {int(value)}% as a fair number of your chapter tests weren't fully completed, and many of your solutions failed to take into account certain situations (e.g. a negative input, decimal input, or an input of zero). Paying closer attention to problem instructions and asking for help if you get stuck can bring your average to the B or even A range. \"\n",
    "            elif int(value) >= 80 and int(value) < 84:\n",
    "                chaptest_com = f\"Your chapter test average was in the B- range at {int(value)}% as a few of your chapter tests weren't fully completed, and many of your solutions failed to take into account certain situations (e.g. a negative input, decimal input, or an input of zero). Paying closer attention to problem instructions and asking for help if you get stuck can bring your average to the B+ or A range. \"\n",
    "            elif int(value) >= 84 and int(value) < 87:\n",
    "                chaptest_com = f\"Your chapter test average was {int(value)}%, which indicated that you had difficulty synthesizing enough of the material in order to write logical algorithms by hand without the use of outside resources like the internet or classmates. But these tests improved throughout the semester, which is a great indication. \"\n",
    "            elif int(value) >= 87 and int(value) < 90:\n",
    "                chaptest_com = f\"Your chapter test average was in the B+ range at {int(value)}% as a couple of your chapter tests weren't fully completed, and some of your solutions failed to take into account certain situations (e.g. negatives, decimals, or inputs of zero). Paying closer attention to problem instructions and asking for help if you get stuck can bring your average to the A range. \"\n",
    "            elif int(value) >= 90 and int(value) < 94:\n",
    "                chaptest_com = f\"Your chapter test average was in the A- range at {int(value)}% as a couple solutions in each chapter test failed to account certain situations (e.g. negatives, decimals, or inputs of zero), but your chapter tests on the whole were well done! Paying closer attention to problem instructions and asking for help if you get stuck can bring your average to a solid A in no time! \"\n",
    "            elif int(value) >= 94 and int(value) < 97:\n",
    "                chaptest_com = f\"Your chapter test average was in the A range at an impressive {int(value)}%! Your solutions were efficient and thourough, including contingency plans for negatives, decimals, and inputs of zero where other students often forgot to those situations into account. Keep up the good work!\"\n",
    "            else:\n",
    "                chaptest_com = f\"Your chapter test average was in the A+ range at an impressive {int(value)}%! Your solutions were highly efficient and thourough, including contingency plans for every condition (negatives, decimals, inputs of zero, and more) where other students often forgot to these into account. Your code was concise, neatly formatted, and full of detailed comments and docstrings, making for exemplary readability. Fantastic work! \"\n",
    "            return chaptest_com\n",
    "\n",
    "print(avg_chapter_test('Matthew Chang'))"
   ]
  },
  {
   "cell_type": "code",
   "execution_count": 130,
   "metadata": {
    "collapsed": false
   },
   "outputs": [
    {
     "name": "stdout",
     "output_type": "stream",
     "text": [
      "Your grade for the semester is a B-. I look forward to your continued growth as a computer scientist next semester.\n"
     ]
    }
   ],
   "source": [
    "#Catherine --- semester grade \n",
    "semester_grades = {}\n",
    "with open('students.csv') as csvfile:\n",
    "    data = csv.reader(csvfile, delimiter=',')\n",
    "    for row in data:\n",
    "        semester_grades[row[0]] = row[11]\n",
    "\n",
    "def sem_grade(student):\n",
    "    for key,value in semester_grades.items():\n",
    "        if key == student:\n",
    "            if 'A' in value:\n",
    "                grade_com = f\"Your grade for the semester is an {value}. I look forward to your continued growth as a computer scientist next semester.\"\n",
    "            elif 'B' in value:\n",
    "                grade_com = f\"Your grade for the semester is a {value}. I look forward to your continued growth as a computer scientist next semester.\"\n",
    "            elif 'F' in value:\n",
    "                grade_com = f\"Your grade for the semester is an {value}. I hope you take to heart the suggestions I've given and try your best to improve as a computer scientist next semester.\"\n",
    "            else:\n",
    "                grade_com = f\"Your grade for the semester is a {value}. I hope you take to heart the suggestions I've given and try your best to improve as a computer scientist next semester.\"\n",
    "            return grade_com\n",
    "\n",
    "print(sem_grade('Matthew Chang'))"
   ]
  },
  {
   "cell_type": "code",
   "execution_count": 131,
   "metadata": {
    "collapsed": false
   },
   "outputs": [
    {
     "name": "stdout",
     "output_type": "stream",
     "text": [
      "On your bank customer service simulation partner project, you received an extremely concerning 0% as you never completed (or even partially completed) your bank customer service project. I am concerned by your complete lack of collaboration on group and partner projects. I have seen you leave all project work to your peers, and neglect to listen to your group members. \"Openness to working collaboratively\" is a course expectation, and the ability to collaborate will be of benefit to you regardless of whether or not you pursue computer science. Let me know if there is any way I can support you in improving this skill.\n"
     ]
    }
   ],
   "source": [
    "#Catherine --- Bank project \n",
    "bank_projects = {}\n",
    "with open('students.csv') as csvfile:\n",
    "    data = csv.reader(csvfile, delimiter=',')\n",
    "    for row in data:\n",
    "        bank_projects[row[0]] = row[-3]\n",
    "\n",
    "def bank_project(student):\n",
    "    for key,value in bank_projects.items():\n",
    "        if key == student:\n",
    "            if int(value) <= 0:\n",
    "                bank_com = f\"On your bank customer service simulation partner project, you received an extremely concerning {int(value)}% as you never completed (or even partially completed) your bank customer service project. {collab(student)}\"\n",
    "            elif int(value) <= 50:\n",
    "                bank_com = f\"On your bank customer service simulation partner project, you received a highly concerning {int(value)}% as you never completed the project, but turned in a partially completed solution instead. Please reach out to me for help or to ask for an extension when you need it. {collab(student)}\"\n",
    "            elif int(value) > 50 and int(value) < 70:\n",
    "                bank_com = f\"On your bank customer service simulation partner project, you received a concerning {int(value)}% as most of your project was incomplete, and some of your functions were ineffective. Make sure to reach out for help or to ask for an extension when you need it. {collab(student)}\"\n",
    "            elif int(value) >= 70 and int(value) < 80:\n",
    "                bank_com = f\"On your bank customer service simulation partner project, you received a {int(value)}% as a fair number of your functions weren't fully completed or effective. Make sure to reach out for help or to ask for an extension when you need it. {collab(student)}\"\n",
    "            elif int(value) >= 80 and int(value) < 87:\n",
    "                bank_com = f\"On your bank customer service simulation partner project, you received an {int(value)}% as a few of your functions weren't fully completed, and some were ineffective in certain situations (e.g. a negative input, decimal input, or an input of zero). Reviewing the project instructions and guidlines often, along with and asking for help if needed can help a lot with longer projects like this. {collab(student)}\"\n",
    "            elif int(value) >= 87 and int(value) < 90:\n",
    "                bank_com = f\"On your bank customer service simulation partner project, you received an {int(value)}% as a couple of your functions weren't fully completed, and some were ineffective in certain situations (e.g. a negative input, decimal input, or an input of zero). Reviewing the project instructions and guidlines often, along with and asking for help if needed can help a lot with longer projects like this. {collab(student)}\"\n",
    "            elif int(value) >= 90 and int(value) < 94:\n",
    "                bank_com = f\"On your bank customer service simulation partner project, you received a solid {int(value)}%! A couple functions were ineffective in certain situations (e.g. a negative input, decimal input, or an input of zero), but were on the whole well done! Reviewing the project instructions and guidlines often can help a lot with longer projects like this. Good job adding some comments when it wasn't clear what certain blocks of code were doing. {collab(student)}\"\n",
    "            elif int(value) >= 94 and int(value) < 97:\n",
    "                bank_com = f\"On your bank customer service simulation partner project, you received an impressive {int(value)}%! On this project, great job using functions to make your code modular and easier to read and follow! Good job adding some comments when it wasn't clear what certain blocks of code were doing. For big projects like this, I would recommend even more commenting in your code so it's even easier for others to decipher and follow your thinking and logic. This was a unique and informative investigation. Nice job. {collab(student)}\"\n",
    "            else:\n",
    "                bank_com = f\"On your bank customer service simulation partner project, you received an impressive {int(value)}%! On this project, great job using functions to make your code modular and easier to read and follow! Good job adding some comments when it wasn't clear what certain blocks of code were doing. This was a unique and informative investigation. Great work! {collab(student)}\"\n",
    "            return bank_com\n",
    "\n",
    "print(bank_project('Steven Bard'))"
   ]
  }
 ],
 "metadata": {
  "kernelspec": {
   "display_name": "Python 3 (system-wide)",
   "language": "python",
   "metadata": {
    "cocalc": {
     "description": "Python 3 programming language",
     "priority": 100,
     "url": "https://www.python.org/"
    }
   },
   "name": "python3"
  },
  "language_info": {
   "codemirror_mode": {
    "name": "ipython",
    "version": 3
   },
   "file_extension": ".py",
   "mimetype": "text/x-python",
   "name": "python",
   "nbconvert_exporter": "python",
   "pygments_lexer": "ipython3",
   "version": "3.6.9"
  }
 },
 "nbformat": 4,
 "nbformat_minor": 0
}